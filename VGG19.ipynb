{
 "cells": [
  {
   "cell_type": "code",
   "execution_count": null,
   "metadata": {
    "colab": {},
    "colab_type": "code",
    "id": "N104oxFFqkyi"
   },
   "outputs": [],
   "source": [
    "from keras import applications\n",
    "from keras.preprocessing.image import ImageDataGenerator\n",
    "from keras import optimizers\n",
    "from keras.models import Sequential, Model \n",
    "from keras.layers import Dropout, Flatten, Dense, GlobalAveragePooling2D\n",
    "from keras import backend as k \n",
    "from keras.callbacks import ModelCheckpoint, LearningRateScheduler, TensorBoard, EarlyStopping\n",
    "\n",
    "import pandas as pd\n",
    "import numpy as np\n",
    "\n",
    "from skimage.io import imread\n",
    "from keras.utils.np_utils import to_categorical # convert to one-hot-encoding\n",
    "\n"
   ]
  },
  {
   "cell_type": "code",
   "execution_count": null,
   "metadata": {
    "colab": {},
    "colab_type": "code",
    "id": "KmHJX0T1qs39"
   },
   "outputs": [],
   "source": [
    "img_width = 640\n",
    "img_height = 480\n",
    "\n",
    "PATH_TO_CSV = '/content/gdrive/My Drive/dare2compete/data/train.csv'\n",
    "PATH = \"/content/gdrive/My Drive/dare2compete/data/train/\"\n",
    "\n",
    "PATH_TO_MODEL = '/content/gdrive/My Drive/dare2compete/InceptionV3/'"
   ]
  },
  {
   "cell_type": "code",
   "execution_count": null,
   "metadata": {
    "colab": {
     "base_uri": "https://localhost:8080/",
     "height": 121
    },
    "colab_type": "code",
    "id": "twHRoSh7q0H3",
    "outputId": "1a2ea783-b093-4d3b-90b7-cf146bbef83f"
   },
   "outputs": [
    {
     "name": "stdout",
     "output_type": "stream",
     "text": [
      "WARNING:tensorflow:From /usr/local/lib/python3.6/dist-packages/tensorflow/python/framework/op_def_library.py:263: colocate_with (from tensorflow.python.framework.ops) is deprecated and will be removed in a future version.\n",
      "Instructions for updating:\n",
      "Colocations handled automatically by placer.\n",
      "Downloading data from https://github.com/fchollet/deep-learning-models/releases/download/v0.1/vgg19_weights_tf_dim_ordering_tf_kernels_notop.h5\n",
      "80142336/80134624 [==============================] - 1s 0us/step\n"
     ]
    }
   ],
   "source": [
    "model = applications.VGG19(weights = \"imagenet\", include_top=False, input_shape = (img_height, img_width, 3))\n",
    "#print(model.summary())"
   ]
  },
  {
   "cell_type": "code",
   "execution_count": null,
   "metadata": {
    "colab": {
     "base_uri": "https://localhost:8080/",
     "height": 104
    },
    "colab_type": "code",
    "id": "lYNet4U5rCBv",
    "outputId": "6dc36815-d23d-464e-d707-56bd59b707c6"
   },
   "outputs": [
    {
     "name": "stdout",
     "output_type": "stream",
     "text": [
      "WARNING:tensorflow:From /usr/local/lib/python3.6/dist-packages/keras/backend/tensorflow_backend.py:3445: calling dropout (from tensorflow.python.ops.nn_ops) with keep_prob is deprecated and will be removed in a future version.\n",
      "Instructions for updating:\n",
      "Please use `rate` instead of `keep_prob`. Rate should be set to `rate = 1 - keep_prob`.\n",
      "[<keras.engine.input_layer.InputLayer object at 0x7f89f8bd2588>, <keras.layers.convolutional.Conv2D object at 0x7f89a5752f98>, <keras.layers.convolutional.Conv2D object at 0x7f89a401ec50>, <keras.layers.pooling.MaxPooling2D object at 0x7f89a3fa57b8>, <keras.layers.convolutional.Conv2D object at 0x7f89a3fa58d0>, <keras.layers.convolutional.Conv2D object at 0x7f89a3fd9208>, <keras.layers.pooling.MaxPooling2D object at 0x7f89a3f726d8>, <keras.layers.convolutional.Conv2D object at 0x7f89a3f72668>, <keras.layers.convolutional.Conv2D object at 0x7f89a3f1f4e0>, <keras.layers.convolutional.Conv2D object at 0x7f89a3f3ba20>, <keras.layers.convolutional.Conv2D object at 0x7f89a3ee56d8>, <keras.layers.pooling.MaxPooling2D object at 0x7f89a3efea58>, <keras.layers.convolutional.Conv2D object at 0x7f89a3efecf8>, <keras.layers.convolutional.Conv2D object at 0x7f89a3eab9e8>, <keras.layers.convolutional.Conv2D object at 0x7f89a3ec2e48>, <keras.layers.convolutional.Conv2D object at 0x7f89a3e72a90>, <keras.layers.pooling.MaxPooling2D object at 0x7f89a3e8b080>, <keras.layers.convolutional.Conv2D object at 0x7f89a3e8b9b0>, <keras.layers.convolutional.Conv2D object at 0x7f89a3e39d68>, <keras.layers.convolutional.Conv2D object at 0x7f89a3de45f8>, <keras.layers.convolutional.Conv2D object at 0x7f89a3dfc978>, <keras.layers.pooling.MaxPooling2D object at 0x7f89a3dab668>]\n"
     ]
    }
   ],
   "source": [
    "for layer in model.layers[:]:\n",
    "    layer.trainable = False\n",
    "\n",
    "x = model.output\n",
    "x = Flatten()(x)\n",
    "x = Dense(1024, activation=\"relu\")(x)\n",
    "x = Dropout(0.5)(x)\n",
    "x = Dense(1024, activation=\"relu\")(x)\n",
    "predictions = Dense(4, activation=\"linear\")(x)\n",
    "print((model.layers))"
   ]
  },
  {
   "cell_type": "code",
   "execution_count": null,
   "metadata": {
    "colab": {
     "base_uri": "https://localhost:8080/",
     "height": 70
    },
    "colab_type": "code",
    "id": "2MUbXP4LuFDy",
    "outputId": "470b15f0-4ad0-40e1-acec-eeb4d7e0adc6"
   },
   "outputs": [
    {
     "name": "stderr",
     "output_type": "stream",
     "text": [
      "/usr/local/lib/python3.6/dist-packages/ipykernel_launcher.py:1: UserWarning: Update your `Model` call to the Keras 2 API: `Model(inputs=Tensor(\"in..., outputs=Tensor(\"de...)`\n",
      "  \"\"\"Entry point for launching an IPython kernel.\n"
     ]
    }
   ],
   "source": [
    "model = Model(input = model.input, output = predictions)\n"
   ]
  },
  {
   "cell_type": "code",
   "execution_count": null,
   "metadata": {
    "colab": {},
    "colab_type": "code",
    "id": "PuD3zCmkuwGc"
   },
   "outputs": [],
   "source": [
    "def get_image(NAME):\n",
    "    image = imread(PATH+NAME)\n",
    "    return image"
   ]
  },
  {
   "cell_type": "code",
   "execution_count": 3,
   "metadata": {
    "colab": {},
    "colab_type": "code",
    "id": "yilnnDn5vH8m"
   },
   "outputs": [],
   "source": [
    "def preprocess_image(image):\n",
    "    mean=[0.485, 0.456, 0.406]  \n",
    "    std=[0.229, 0.224, 0.225]\n",
    "  \n",
    "    image=image/255.0\n",
    "    for i in range(3):\n",
    "        image[:,:,i] = (image[:,:,i] - mean[i])/std[i]\n",
    "    return image\n",
    "  "
   ]
  },
  {
   "cell_type": "code",
   "execution_count": 4,
   "metadata": {
    "colab": {},
    "colab_type": "code",
    "id": "W5PWrB5EvEq0"
   },
   "outputs": [],
   "source": [
    "def unpreprocess_image(image):\n",
    "    mean=[0.485, 0.456, 0.406]  \n",
    "    std=[0.229, 0.224, 0.225]\n",
    "  \n",
    "    for i in range(3):\n",
    "        image[:,:,i] = (image[:,:,i] *std[i])+mean[i]\n",
    "   \n",
    "    image=image*255.0\n",
    "\n",
    "    return image\n",
    "  "
   ]
  },
  {
   "cell_type": "code",
   "execution_count": null,
   "metadata": {
    "colab": {},
    "colab_type": "code",
    "id": "3k406c_hwbKX"
   },
   "outputs": [],
   "source": [
    "def image_generator(X, batch_size=16):\n",
    "    while True:\n",
    "\n",
    "        img_names = np.random.choice(X.index, size=batch_size)\n",
    "        \n",
    "        batch_x = []\n",
    "        batch_y = [] \n",
    "          \n",
    "        for img_name in img_names:\n",
    "            img = get_image(img_name)\n",
    "            y = X.loc[img_name].values\n",
    "            #print(img.shape)\n",
    "\n",
    "            img = preprocess_image(img)\n",
    "            batch_x.append(img)\n",
    "            batch_y.append(y)\n",
    "\n",
    "        batch_x = np.array(batch_x)\n",
    "        batch_y = np.array(batch_y)\n",
    "\n",
    "        yield (batch_x, batch_y)"
   ]
  },
  {
   "cell_type": "code",
   "execution_count": null,
   "metadata": {
    "colab": {},
    "colab_type": "code",
    "id": "KI4Zs5EA3pFe"
   },
   "outputs": [],
   "source": [
    "\n",
    "def save_model(name,model):\n",
    "    model_json = model.to_json()\n",
    "    with open(PATH_TO_MODEL+ name+ \".json\", \"w\") as json_file:\n",
    "        json_file.write(model_json)\n",
    "    model.save_weights(PATH_TO_MODEL+ name +\".h5\")\n",
    "    print(\"Saved model to disk\")\n"
   ]
  },
  {
   "cell_type": "code",
   "execution_count": null,
   "metadata": {
    "colab": {},
    "colab_type": "code",
    "id": "cct7yJm_w1Bs"
   },
   "outputs": [],
   "source": [
    "def load_model(name):\n",
    "    json_file = open(PATH_TO_MODEL+ name+ \".json\", 'r')\n",
    "    loaded_model_json = json_file.read()\n",
    "    json_file.close()\n",
    "    loaded_model = model_from_json(loaded_model_json)\n",
    "    loaded_model.load_weights(PATH_TO_MODEL+ name +\".h5\")\n",
    "    print(\"Loaded model from disk\")\n",
    "    return loaded_model"
   ]
  },
  {
   "cell_type": "code",
   "execution_count": null,
   "metadata": {
    "colab": {},
    "colab_type": "code",
    "id": "Crsc2-JKxGw_"
   },
   "outputs": [],
   "source": [
    "model.compile(loss = \"mean_squared_error\", optimizer = optimizers.Adam(lr=0.0028))\n"
   ]
  },
  {
   "cell_type": "code",
   "execution_count": null,
   "metadata": {
    "colab": {},
    "colab_type": "code",
    "id": "gKnRVeAf60UE"
   },
   "outputs": [],
   "source": [
    "import matplotlib.pyplot as plt\n",
    "x = np.random.choice(X.index)\n",
    "img = get_image(x)\n",
    "box = X.loc[x].values\n",
    "\n",
    "print(box[:2])\n",
    "\"\"\"\n",
    "plt.subplot(221)\n",
    "plt.imshow(img)\n",
    "print(\"original:\",img)\n",
    "img = preprocess_image(img)\n",
    "print(\"processed: \",img)\n",
    "plt.subplot(222)\n",
    "plt.imshow(img)\n",
    "img = unpreprocess_image(img)\n",
    "print(\"unpreprocessed: \",img)\n",
    "plt.subplot(223)\n",
    "plt.imshow(img)\n",
    "\"\"\""
   ]
  },
  {
   "cell_type": "code",
   "execution_count": null,
   "metadata": {
    "colab": {},
    "colab_type": "code",
    "id": "uQ2Rwr_yom-X"
   },
   "outputs": [],
   "source": []
  }
 ],
 "metadata": {
  "accelerator": "GPU",
  "colab": {
   "collapsed_sections": [],
   "name": "VGG19",
   "provenance": [],
   "version": "0.3.2"
  },
  "kernelspec": {
   "display_name": "Python 3",
   "language": "python",
   "name": "python3"
  },
  "language_info": {
   "codemirror_mode": {
    "name": "ipython",
    "version": 3
   },
   "file_extension": ".py",
   "mimetype": "text/x-python",
   "name": "python",
   "nbconvert_exporter": "python",
   "pygments_lexer": "ipython3",
   "version": "3.5.2"
  }
 },
 "nbformat": 4,
 "nbformat_minor": 2
}
